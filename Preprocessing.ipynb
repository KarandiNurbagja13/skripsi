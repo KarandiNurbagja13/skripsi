{
 "cells": [
  {
   "cell_type": "markdown",
   "id": "2cdb5784",
   "metadata": {},
   "source": [
    "## IMPORT DATASET"
   ]
  },
  {
   "cell_type": "code",
   "execution_count": 1,
   "id": "b1385ce8",
   "metadata": {},
   "outputs": [
    {
     "name": "stderr",
     "output_type": "stream",
     "text": [
      "c:\\Users\\ASUS\\AppData\\Local\\Programs\\Python\\Python39\\lib\\site-packages\\requests\\__init__.py:102: RequestsDependencyWarning: urllib3 (1.26.9) or chardet (5.1.0)/charset_normalizer (2.0.12) doesn't match a supported version!\n",
      "  warnings.warn(\"urllib3 ({}) or chardet ({})/charset_normalizer ({}) doesn't match a supported \"\n"
     ]
    }
   ],
   "source": [
    "from bs4 import BeautifulSoup\n",
    "import requests\n",
    "import csv\n",
    "import pandas as pd\n",
    "from nltk import ngrams\n",
    "import numpy as np\n",
    "import matplotlib"
   ]
  },
  {
   "cell_type": "markdown",
   "id": "9405422a",
   "metadata": {},
   "source": [
    "## SCRAPING"
   ]
  },
  {
   "cell_type": "code",
   "execution_count": 2,
   "id": "1d386eb4",
   "metadata": {},
   "outputs": [],
   "source": [
    "url = \"yt.html\"\n",
    "page = open(url, encoding=\"utf8\")\n",
    "soup = BeautifulSoup(page.read())"
   ]
  },
  {
   "cell_type": "code",
   "execution_count": 3,
   "id": "b7089329",
   "metadata": {},
   "outputs": [],
   "source": [
    "spans = soup.find_all('div', {'class' : 'style-scope ytd-expander'})\n",
    "lines = [span.get_text() for span in spans]\n",
    "#gvxzyvdx aeinzg81 t7p7dqev gh25dzvf exr7barw b6ax4al1 gem102v4 ncib64c9 mrvwc6qr sx8pxkcf f597kf1v cpcgwwas m2nijcs8 hxfwr5lz k1z55t6l oog5qr5w innypi6y rtxb060y"
   ]
  },
  {
   "cell_type": "code",
   "execution_count": 4,
   "id": "521b843f",
   "metadata": {
    "scrolled": true
   },
   "outputs": [
    {
     "data": {
      "text/html": [
       "<div>\n",
       "<style scoped>\n",
       "    .dataframe tbody tr th:only-of-type {\n",
       "        vertical-align: middle;\n",
       "    }\n",
       "\n",
       "    .dataframe tbody tr th {\n",
       "        vertical-align: top;\n",
       "    }\n",
       "\n",
       "    .dataframe thead th {\n",
       "        text-align: right;\n",
       "    }\n",
       "</style>\n",
       "<table border=\"1\" class=\"dataframe\">\n",
       "  <thead>\n",
       "    <tr style=\"text-align: right;\">\n",
       "      <th></th>\n",
       "      <th>Komentar</th>\n",
       "    </tr>\n",
       "  </thead>\n",
       "  <tbody>\n",
       "    <tr>\n",
       "      <th>0</th>\n",
       "      <td>\\n\\n\\n\\nPemerintah resmi mengumumkan kenaikan ...</td>\n",
       "    </tr>\n",
       "    <tr>\n",
       "      <th>1</th>\n",
       "      <td>\\nPemerintah resmi mengumumkan kenaikan harga ...</td>\n",
       "    </tr>\n",
       "    <tr>\n",
       "      <th>2</th>\n",
       "      <td>\\n\\nSemangaaat guys, semoga seluruh rakyat Ind...</td>\n",
       "    </tr>\n",
       "    <tr>\n",
       "      <th>3</th>\n",
       "      <td>\\n\\nAmin yrbl alamin bang R\\n</td>\n",
       "    </tr>\n",
       "    <tr>\n",
       "      <th>4</th>\n",
       "      <td>\\n\\nAamiin\\n</td>\n",
       "    </tr>\n",
       "    <tr>\n",
       "      <th>...</th>\n",
       "      <td>...</td>\n",
       "    </tr>\n",
       "    <tr>\n",
       "      <th>1800</th>\n",
       "      <td>\\n\\nMinyak paling mahal negara indonesia, di m...</td>\n",
       "    </tr>\n",
       "    <tr>\n",
       "      <th>1801</th>\n",
       "      <td>\\n\\nBLT itu jadi alat adu domba rakyat klo bag...</td>\n",
       "    </tr>\n",
       "    <tr>\n",
       "      <th>1802</th>\n",
       "      <td>\\n\\nWOI, , ,inilah hadiah untuk orang pinggira...</td>\n",
       "    </tr>\n",
       "    <tr>\n",
       "      <th>1803</th>\n",
       "      <td>\\n\\nSemoga rezim ini di laknat alloh\\n</td>\n",
       "    </tr>\n",
       "    <tr>\n",
       "      <th>1804</th>\n",
       "      <td>\\n\\nRakyat Indonesia dah ngerti ,yg nggak nger...</td>\n",
       "    </tr>\n",
       "  </tbody>\n",
       "</table>\n",
       "<p>1805 rows × 1 columns</p>\n",
       "</div>"
      ],
      "text/plain": [
       "                                               Komentar\n",
       "0     \\n\\n\\n\\nPemerintah resmi mengumumkan kenaikan ...\n",
       "1     \\nPemerintah resmi mengumumkan kenaikan harga ...\n",
       "2     \\n\\nSemangaaat guys, semoga seluruh rakyat Ind...\n",
       "3                         \\n\\nAmin yrbl alamin bang R\\n\n",
       "4                                          \\n\\nAamiin\\n\n",
       "...                                                 ...\n",
       "1800  \\n\\nMinyak paling mahal negara indonesia, di m...\n",
       "1801  \\n\\nBLT itu jadi alat adu domba rakyat klo bag...\n",
       "1802  \\n\\nWOI, , ,inilah hadiah untuk orang pinggira...\n",
       "1803             \\n\\nSemoga rezim ini di laknat alloh\\n\n",
       "1804  \\n\\nRakyat Indonesia dah ngerti ,yg nggak nger...\n",
       "\n",
       "[1805 rows x 1 columns]"
      ]
     },
     "execution_count": 4,
     "metadata": {},
     "output_type": "execute_result"
    }
   ],
   "source": [
    "df = pd.DataFrame(lines,columns=['Komentar'])\n",
    "df.head(1804)"
   ]
  },
  {
   "cell_type": "code",
   "execution_count": 5,
   "id": "b1d4cca8",
   "metadata": {},
   "outputs": [],
   "source": [
    "df.to_csv('Data_yt.csv')"
   ]
  },
  {
   "cell_type": "markdown",
   "id": "f562204b",
   "metadata": {},
   "source": [
    "## CLEANSING"
   ]
  },
  {
   "cell_type": "code",
   "execution_count": 6,
   "id": "b038f192",
   "metadata": {},
   "outputs": [
    {
     "data": {
      "text/html": [
       "<div>\n",
       "<style scoped>\n",
       "    .dataframe tbody tr th:only-of-type {\n",
       "        vertical-align: middle;\n",
       "    }\n",
       "\n",
       "    .dataframe tbody tr th {\n",
       "        vertical-align: top;\n",
       "    }\n",
       "\n",
       "    .dataframe thead th {\n",
       "        text-align: right;\n",
       "    }\n",
       "</style>\n",
       "<table border=\"1\" class=\"dataframe\">\n",
       "  <thead>\n",
       "    <tr style=\"text-align: right;\">\n",
       "      <th></th>\n",
       "      <th>Label</th>\n",
       "      <th>Komentar</th>\n",
       "    </tr>\n",
       "  </thead>\n",
       "  <tbody>\n",
       "    <tr>\n",
       "      <th>0</th>\n",
       "      <td>2</td>\n",
       "      <td>Semangaaat guys, semoga seluruh rakyat Indones...</td>\n",
       "    </tr>\n",
       "    <tr>\n",
       "      <th>1</th>\n",
       "      <td>2</td>\n",
       "      <td>Amin yrbl alamin bang R</td>\n",
       "    </tr>\n",
       "    <tr>\n",
       "      <th>2</th>\n",
       "      <td>2</td>\n",
       "      <td>Aamiin</td>\n",
       "    </tr>\n",
       "    <tr>\n",
       "      <th>3</th>\n",
       "      <td>2</td>\n",
       "      <td>Aaaammiiinnn...</td>\n",
       "    </tr>\n",
       "    <tr>\n",
       "      <th>4</th>\n",
       "      <td>2</td>\n",
       "      <td>Amin yra</td>\n",
       "    </tr>\n",
       "    <tr>\n",
       "      <th>...</th>\n",
       "      <td>...</td>\n",
       "      <td>...</td>\n",
       "    </tr>\n",
       "    <tr>\n",
       "      <th>1799</th>\n",
       "      <td>0</td>\n",
       "      <td>Minyak paling mahal negara indonesia, di malay...</td>\n",
       "    </tr>\n",
       "    <tr>\n",
       "      <th>1800</th>\n",
       "      <td>1</td>\n",
       "      <td>BLT itu jadi alat adu domba rakyat klo bagiinn...</td>\n",
       "    </tr>\n",
       "    <tr>\n",
       "      <th>1801</th>\n",
       "      <td>1</td>\n",
       "      <td>WOI, , ,inilah hadiah untuk orang pinggiran 77...</td>\n",
       "    </tr>\n",
       "    <tr>\n",
       "      <th>1802</th>\n",
       "      <td>1</td>\n",
       "      <td>Semoga rezim ini di laknat alloh</td>\n",
       "    </tr>\n",
       "    <tr>\n",
       "      <th>1803</th>\n",
       "      <td>1</td>\n",
       "      <td>Rakyat Indonesia dah ngerti ,yg nggak ngerti y...</td>\n",
       "    </tr>\n",
       "  </tbody>\n",
       "</table>\n",
       "<p>1804 rows × 2 columns</p>\n",
       "</div>"
      ],
      "text/plain": [
       "      Label                                           Komentar\n",
       "0         2  Semangaaat guys, semoga seluruh rakyat Indones...\n",
       "1         2                            Amin yrbl alamin bang R\n",
       "2         2                                             Aamiin\n",
       "3         2                                    Aaaammiiinnn...\n",
       "4         2                                           Amin yra\n",
       "...     ...                                                ...\n",
       "1799      0  Minyak paling mahal negara indonesia, di malay...\n",
       "1800      1  BLT itu jadi alat adu domba rakyat klo bagiinn...\n",
       "1801      1  WOI, , ,inilah hadiah untuk orang pinggiran 77...\n",
       "1802      1                   Semoga rezim ini di laknat alloh\n",
       "1803      1  Rakyat Indonesia dah ngerti ,yg nggak ngerti y...\n",
       "\n",
       "[1804 rows x 2 columns]"
      ]
     },
     "execution_count": 6,
     "metadata": {},
     "output_type": "execute_result"
    }
   ],
   "source": [
    "df = pd.read_excel('DataSetelahLabel1.xlsx')\n",
    "df.head(1804)"
   ]
  },
  {
   "cell_type": "markdown",
   "id": "477bc124",
   "metadata": {},
   "source": [
    "## LABELING"
   ]
  },
  {
   "cell_type": "code",
   "execution_count": 7,
   "id": "446515d1",
   "metadata": {},
   "outputs": [
    {
     "data": {
      "text/plain": [
       "Label        int64\n",
       "Komentar    object\n",
       "dtype: object"
      ]
     },
     "execution_count": 7,
     "metadata": {},
     "output_type": "execute_result"
    }
   ],
   "source": [
    "df.dtypes"
   ]
  },
  {
   "cell_type": "code",
   "execution_count": 8,
   "id": "8de88bd0",
   "metadata": {},
   "outputs": [
    {
     "data": {
      "text/plain": [
       "1    907\n",
       "2    495\n",
       "0    402\n",
       "Name: Label, dtype: int64"
      ]
     },
     "execution_count": 8,
     "metadata": {},
     "output_type": "execute_result"
    }
   ],
   "source": [
    "df['Label'].value_counts()"
   ]
  },
  {
   "cell_type": "code",
   "execution_count": 9,
   "id": "18b05ff4",
   "metadata": {},
   "outputs": [],
   "source": [
    "df['Label'] = df['Label'].astype('category')"
   ]
  },
  {
   "cell_type": "code",
   "execution_count": 10,
   "id": "afb0cab9",
   "metadata": {},
   "outputs": [
    {
     "data": {
      "text/plain": [
       "Label       0\n",
       "Komentar    0\n",
       "dtype: int64"
      ]
     },
     "execution_count": 10,
     "metadata": {},
     "output_type": "execute_result"
    }
   ],
   "source": [
    "df.isnull().sum()"
   ]
  },
  {
   "cell_type": "markdown",
   "id": "ae526101",
   "metadata": {},
   "source": [
    "## REMOVE OF PUNCTUATION (Cleaning)"
   ]
  },
  {
   "cell_type": "code",
   "execution_count": 11,
   "id": "eeaca285",
   "metadata": {},
   "outputs": [
    {
     "data": {
      "text/html": [
       "<div>\n",
       "<style scoped>\n",
       "    .dataframe tbody tr th:only-of-type {\n",
       "        vertical-align: middle;\n",
       "    }\n",
       "\n",
       "    .dataframe tbody tr th {\n",
       "        vertical-align: top;\n",
       "    }\n",
       "\n",
       "    .dataframe thead th {\n",
       "        text-align: right;\n",
       "    }\n",
       "</style>\n",
       "<table border=\"1\" class=\"dataframe\">\n",
       "  <thead>\n",
       "    <tr style=\"text-align: right;\">\n",
       "      <th></th>\n",
       "      <th>Label</th>\n",
       "      <th>Komentar</th>\n",
       "    </tr>\n",
       "  </thead>\n",
       "  <tbody>\n",
       "    <tr>\n",
       "      <th>0</th>\n",
       "      <td>2</td>\n",
       "      <td>Semangaaat guys semoga seluruh rakyat Indonesi...</td>\n",
       "    </tr>\n",
       "    <tr>\n",
       "      <th>1</th>\n",
       "      <td>2</td>\n",
       "      <td>Amin yrbl alamin bang</td>\n",
       "    </tr>\n",
       "    <tr>\n",
       "      <th>2</th>\n",
       "      <td>2</td>\n",
       "      <td>Aamiin</td>\n",
       "    </tr>\n",
       "    <tr>\n",
       "      <th>3</th>\n",
       "      <td>2</td>\n",
       "      <td>Aaaammiiinnn</td>\n",
       "    </tr>\n",
       "    <tr>\n",
       "      <th>4</th>\n",
       "      <td>2</td>\n",
       "      <td>Amin yra</td>\n",
       "    </tr>\n",
       "    <tr>\n",
       "      <th>...</th>\n",
       "      <td>...</td>\n",
       "      <td>...</td>\n",
       "    </tr>\n",
       "    <tr>\n",
       "      <th>1799</th>\n",
       "      <td>0</td>\n",
       "      <td>Minyak paling mahal negara indonesia di malaya...</td>\n",
       "    </tr>\n",
       "    <tr>\n",
       "      <th>1800</th>\n",
       "      <td>1</td>\n",
       "      <td>BLT itu jadi alat adu domba rakyat klo bagiinn...</td>\n",
       "    </tr>\n",
       "    <tr>\n",
       "      <th>1801</th>\n",
       "      <td>1</td>\n",
       "      <td>WOI inilah hadiah untuk orang pinggiran indone...</td>\n",
       "    </tr>\n",
       "    <tr>\n",
       "      <th>1802</th>\n",
       "      <td>1</td>\n",
       "      <td>Semoga rezim ini di laknat alloh</td>\n",
       "    </tr>\n",
       "    <tr>\n",
       "      <th>1803</th>\n",
       "      <td>1</td>\n",
       "      <td>Rakyat Indonesia dah ngerti yg nggak ngerti yg...</td>\n",
       "    </tr>\n",
       "  </tbody>\n",
       "</table>\n",
       "<p>1804 rows × 2 columns</p>\n",
       "</div>"
      ],
      "text/plain": [
       "     Label                                           Komentar\n",
       "0        2  Semangaaat guys semoga seluruh rakyat Indonesi...\n",
       "1        2                             Amin yrbl alamin bang \n",
       "2        2                                             Aamiin\n",
       "3        2                                       Aaaammiiinnn\n",
       "4        2                                           Amin yra\n",
       "...    ...                                                ...\n",
       "1799     0  Minyak paling mahal negara indonesia di malaya...\n",
       "1800     1  BLT itu jadi alat adu domba rakyat klo bagiinn...\n",
       "1801     1  WOI inilah hadiah untuk orang pinggiran indone...\n",
       "1802     1                   Semoga rezim ini di laknat alloh\n",
       "1803     1  Rakyat Indonesia dah ngerti yg nggak ngerti yg...\n",
       "\n",
       "[1804 rows x 2 columns]"
      ]
     },
     "execution_count": 11,
     "metadata": {},
     "output_type": "execute_result"
    }
   ],
   "source": [
    "import re\n",
    "import string\n",
    "\n",
    "def remove(text):\n",
    "  text = text.replace('\\\\t', ' ').replace('\\\\n', ' ').replace('\\\\u', ' ').replace('\\\\', ' ')\n",
    "  text = text.encode('ascii', 'replace').decode('ascii')\n",
    "  text = ' '.join(re.sub(\"([@#][A-Za-z0-9]+)|(\\w+:\\/\\/\\S+)\", ' ', text).split())\n",
    "  return text.replace('http://', ' ').replace('https://', ' ')\n",
    "\n",
    "df['Komentar'] = df['Komentar'].apply(remove)\n",
    "\n",
    "def remove_number(text):\n",
    "  return re.sub(r'\\d+', '', text)\n",
    "\n",
    "df['Komentar'] = df['Komentar'].apply(remove_number)\n",
    "\n",
    "def remove_punc(text):\n",
    "  return text.translate(str.maketrans('','',string.punctuation))\n",
    "\n",
    "df['Komentar'] = df['Komentar'].apply(remove_punc)\n",
    "\n",
    "def remove_whitespace(text):\n",
    "  return text.strip()\n",
    "\n",
    "df['Komentar'] = df['Komentar'].apply(remove_whitespace)\n",
    "\n",
    "def remove_whitespace_multi(text):\n",
    "  return re.sub('\\s+', ' ', text)\n",
    "\n",
    "df['Komentar'] = df['Komentar'].apply(remove_whitespace_multi)\n",
    "\n",
    "def remove_single_char(text):\n",
    "  return re.sub(r'\\b[a-zA-Z]\\b', '', text)\n",
    "\n",
    "df['Komentar'] = df['Komentar'].apply(remove_single_char)\n",
    "\n",
    "df.head(1804)"
   ]
  },
  {
   "cell_type": "code",
   "execution_count": 12,
   "id": "d0c89138",
   "metadata": {},
   "outputs": [],
   "source": [
    "df.to_csv('Data_remove.csv')"
   ]
  },
  {
   "cell_type": "markdown",
   "id": "eb324174",
   "metadata": {},
   "source": [
    "## CASE FOLDING"
   ]
  },
  {
   "cell_type": "code",
   "execution_count": 13,
   "id": "cff62847",
   "metadata": {},
   "outputs": [
    {
     "data": {
      "text/html": [
       "<div>\n",
       "<style scoped>\n",
       "    .dataframe tbody tr th:only-of-type {\n",
       "        vertical-align: middle;\n",
       "    }\n",
       "\n",
       "    .dataframe tbody tr th {\n",
       "        vertical-align: top;\n",
       "    }\n",
       "\n",
       "    .dataframe thead th {\n",
       "        text-align: right;\n",
       "    }\n",
       "</style>\n",
       "<table border=\"1\" class=\"dataframe\">\n",
       "  <thead>\n",
       "    <tr style=\"text-align: right;\">\n",
       "      <th></th>\n",
       "      <th>Label</th>\n",
       "      <th>Komentar</th>\n",
       "    </tr>\n",
       "  </thead>\n",
       "  <tbody>\n",
       "    <tr>\n",
       "      <th>0</th>\n",
       "      <td>2</td>\n",
       "      <td>semangaaat guys semoga seluruh rakyat indonesi...</td>\n",
       "    </tr>\n",
       "    <tr>\n",
       "      <th>1</th>\n",
       "      <td>2</td>\n",
       "      <td>amin yrbl alamin bang</td>\n",
       "    </tr>\n",
       "    <tr>\n",
       "      <th>2</th>\n",
       "      <td>2</td>\n",
       "      <td>aamiin</td>\n",
       "    </tr>\n",
       "    <tr>\n",
       "      <th>3</th>\n",
       "      <td>2</td>\n",
       "      <td>aaaammiiinnn</td>\n",
       "    </tr>\n",
       "    <tr>\n",
       "      <th>4</th>\n",
       "      <td>2</td>\n",
       "      <td>amin yra</td>\n",
       "    </tr>\n",
       "    <tr>\n",
       "      <th>...</th>\n",
       "      <td>...</td>\n",
       "      <td>...</td>\n",
       "    </tr>\n",
       "    <tr>\n",
       "      <th>1799</th>\n",
       "      <td>0</td>\n",
       "      <td>minyak paling mahal negara indonesia di malaya...</td>\n",
       "    </tr>\n",
       "    <tr>\n",
       "      <th>1800</th>\n",
       "      <td>1</td>\n",
       "      <td>blt itu jadi alat adu domba rakyat klo bagiinn...</td>\n",
       "    </tr>\n",
       "    <tr>\n",
       "      <th>1801</th>\n",
       "      <td>1</td>\n",
       "      <td>woi inilah hadiah untuk orang pinggiran indone...</td>\n",
       "    </tr>\n",
       "    <tr>\n",
       "      <th>1802</th>\n",
       "      <td>1</td>\n",
       "      <td>semoga rezim ini di laknat alloh</td>\n",
       "    </tr>\n",
       "    <tr>\n",
       "      <th>1803</th>\n",
       "      <td>1</td>\n",
       "      <td>rakyat indonesia dah ngerti yg nggak ngerti yg...</td>\n",
       "    </tr>\n",
       "  </tbody>\n",
       "</table>\n",
       "<p>1804 rows × 2 columns</p>\n",
       "</div>"
      ],
      "text/plain": [
       "     Label                                           Komentar\n",
       "0        2  semangaaat guys semoga seluruh rakyat indonesi...\n",
       "1        2                             amin yrbl alamin bang \n",
       "2        2                                             aamiin\n",
       "3        2                                       aaaammiiinnn\n",
       "4        2                                           amin yra\n",
       "...    ...                                                ...\n",
       "1799     0  minyak paling mahal negara indonesia di malaya...\n",
       "1800     1  blt itu jadi alat adu domba rakyat klo bagiinn...\n",
       "1801     1  woi inilah hadiah untuk orang pinggiran indone...\n",
       "1802     1                   semoga rezim ini di laknat alloh\n",
       "1803     1  rakyat indonesia dah ngerti yg nggak ngerti yg...\n",
       "\n",
       "[1804 rows x 2 columns]"
      ]
     },
     "execution_count": 13,
     "metadata": {},
     "output_type": "execute_result"
    }
   ],
   "source": [
    "df['Komentar'] = df['Komentar'].str.lower()\n",
    "df.head(1804)"
   ]
  },
  {
   "cell_type": "code",
   "execution_count": 14,
   "id": "809e2cdd",
   "metadata": {},
   "outputs": [],
   "source": [
    "df.to_csv('Data_lower.csv')"
   ]
  },
  {
   "cell_type": "markdown",
   "id": "f31708da",
   "metadata": {},
   "source": [
    "## TOKENISASI"
   ]
  },
  {
   "cell_type": "code",
   "execution_count": 15,
   "id": "c4232a93",
   "metadata": {},
   "outputs": [
    {
     "name": "stdout",
     "output_type": "stream",
     "text": [
      "Hasil Tokenisasi : \n"
     ]
    },
    {
     "data": {
      "text/plain": [
       "0       [semangaaat, guys, semoga, seluruh, rakyat, in...\n",
       "1                              [amin, yrbl, alamin, bang]\n",
       "2                                                [aamiin]\n",
       "3                                          [aaaammiiinnn]\n",
       "4                                             [amin, yra]\n",
       "                              ...                        \n",
       "1799    [minyak, paling, mahal, negara, indonesia, di,...\n",
       "1800    [blt, itu, jadi, alat, adu, domba, rakyat, klo...\n",
       "1801    [woi, inilah, hadiah, untuk, orang, pinggiran,...\n",
       "1802              [semoga, rezim, ini, di, laknat, alloh]\n",
       "1803    [rakyat, indonesia, dah, ngerti, yg, nggak, ng...\n",
       "Name: Komentar, Length: 1804, dtype: object"
      ]
     },
     "execution_count": 15,
     "metadata": {},
     "output_type": "execute_result"
    }
   ],
   "source": [
    "from nltk.tokenize import word_tokenize\n",
    "\n",
    "def word_tokenize_wrapper(text):\n",
    "  return word_tokenize(text)\n",
    "\n",
    "df['Komentar'] = df['Komentar'].apply(word_tokenize_wrapper)\n",
    "print('Hasil Tokenisasi : ') \n",
    "df['Komentar'].head(1804)"
   ]
  },
  {
   "cell_type": "code",
   "execution_count": 16,
   "id": "230d52ef",
   "metadata": {},
   "outputs": [],
   "source": [
    "df.to_csv('Data_token.csv')"
   ]
  },
  {
   "cell_type": "markdown",
   "id": "e7991564",
   "metadata": {},
   "source": [
    "## STEMMING"
   ]
  },
  {
   "cell_type": "code",
   "execution_count": 17,
   "id": "39a5af92",
   "metadata": {},
   "outputs": [
    {
     "data": {
      "text/html": [
       "<div>\n",
       "<style scoped>\n",
       "    .dataframe tbody tr th:only-of-type {\n",
       "        vertical-align: middle;\n",
       "    }\n",
       "\n",
       "    .dataframe tbody tr th {\n",
       "        vertical-align: top;\n",
       "    }\n",
       "\n",
       "    .dataframe thead th {\n",
       "        text-align: right;\n",
       "    }\n",
       "</style>\n",
       "<table border=\"1\" class=\"dataframe\">\n",
       "  <thead>\n",
       "    <tr style=\"text-align: right;\">\n",
       "      <th></th>\n",
       "      <th>Label</th>\n",
       "      <th>Komentar</th>\n",
       "    </tr>\n",
       "  </thead>\n",
       "  <tbody>\n",
       "    <tr>\n",
       "      <th>0</th>\n",
       "      <td>2</td>\n",
       "      <td>[semangaaat, guys, moga, seluruh, rakyat, indo...</td>\n",
       "    </tr>\n",
       "    <tr>\n",
       "      <th>1</th>\n",
       "      <td>2</td>\n",
       "      <td>[amin, yrbl, alamin, bang]</td>\n",
       "    </tr>\n",
       "    <tr>\n",
       "      <th>2</th>\n",
       "      <td>2</td>\n",
       "      <td>[aamiin]</td>\n",
       "    </tr>\n",
       "    <tr>\n",
       "      <th>3</th>\n",
       "      <td>2</td>\n",
       "      <td>[aaaammiiinnn]</td>\n",
       "    </tr>\n",
       "    <tr>\n",
       "      <th>4</th>\n",
       "      <td>2</td>\n",
       "      <td>[amin, yra]</td>\n",
       "    </tr>\n",
       "    <tr>\n",
       "      <th>...</th>\n",
       "      <td>...</td>\n",
       "      <td>...</td>\n",
       "    </tr>\n",
       "    <tr>\n",
       "      <th>1799</th>\n",
       "      <td>0</td>\n",
       "      <td>[minyak, paling, mahal, negara, indonesia, di,...</td>\n",
       "    </tr>\n",
       "    <tr>\n",
       "      <th>1800</th>\n",
       "      <td>1</td>\n",
       "      <td>[blt, itu, jadi, alat, adu, domba, rakyat, klo...</td>\n",
       "    </tr>\n",
       "    <tr>\n",
       "      <th>1801</th>\n",
       "      <td>1</td>\n",
       "      <td>[woi, ini, hadiah, untuk, orang, pinggir, indo...</td>\n",
       "    </tr>\n",
       "    <tr>\n",
       "      <th>1802</th>\n",
       "      <td>1</td>\n",
       "      <td>[moga, rezim, ini, di, laknat, alloh]</td>\n",
       "    </tr>\n",
       "    <tr>\n",
       "      <th>1803</th>\n",
       "      <td>1</td>\n",
       "      <td>[rakyat, indonesia, dah, ngerti, yg, nggak, ng...</td>\n",
       "    </tr>\n",
       "  </tbody>\n",
       "</table>\n",
       "<p>1804 rows × 2 columns</p>\n",
       "</div>"
      ],
      "text/plain": [
       "     Label                                           Komentar\n",
       "0        2  [semangaaat, guys, moga, seluruh, rakyat, indo...\n",
       "1        2                         [amin, yrbl, alamin, bang]\n",
       "2        2                                           [aamiin]\n",
       "3        2                                     [aaaammiiinnn]\n",
       "4        2                                        [amin, yra]\n",
       "...    ...                                                ...\n",
       "1799     0  [minyak, paling, mahal, negara, indonesia, di,...\n",
       "1800     1  [blt, itu, jadi, alat, adu, domba, rakyat, klo...\n",
       "1801     1  [woi, ini, hadiah, untuk, orang, pinggir, indo...\n",
       "1802     1              [moga, rezim, ini, di, laknat, alloh]\n",
       "1803     1  [rakyat, indonesia, dah, ngerti, yg, nggak, ng...\n",
       "\n",
       "[1804 rows x 2 columns]"
      ]
     },
     "execution_count": 17,
     "metadata": {},
     "output_type": "execute_result"
    }
   ],
   "source": [
    "# import StemmerFactory class\n",
    "from Sastrawi.Stemmer.StemmerFactory import StemmerFactory\n",
    "# create stemmer\n",
    "factory = StemmerFactory()\n",
    "stemmer = factory.create_stemmer()\n",
    "# stemming process\n",
    "def stemming(words):\n",
    "  return [stemmer.stem(word) for word in words]\n",
    "\n",
    "df['Komentar'] = df['Komentar'].apply(stemming)\n",
    "df.head(1804)"
   ]
  },
  {
   "cell_type": "code",
   "execution_count": 18,
   "id": "c0651982",
   "metadata": {},
   "outputs": [],
   "source": [
    "df.to_csv('Data_stemming.csv')"
   ]
  },
  {
   "cell_type": "markdown",
   "id": "f686b6f1",
   "metadata": {},
   "source": [
    "## STOPWORD"
   ]
  },
  {
   "cell_type": "code",
   "execution_count": 19,
   "id": "2424b331",
   "metadata": {},
   "outputs": [
    {
     "name": "stderr",
     "output_type": "stream",
     "text": [
      "[nltk_data] Downloading package stopwords to\n",
      "[nltk_data]     C:\\Users\\ASUS\\AppData\\Roaming\\nltk_data...\n",
      "[nltk_data]   Package stopwords is already up-to-date!\n"
     ]
    },
    {
     "data": {
      "text/plain": [
       "True"
      ]
     },
     "execution_count": 19,
     "metadata": {},
     "output_type": "execute_result"
    }
   ],
   "source": [
    "import nltk\n",
    "from nltk.corpus import stopwords\n",
    "nltk.download('stopwords')"
   ]
  },
  {
   "cell_type": "code",
   "execution_count": 20,
   "id": "68673acd",
   "metadata": {},
   "outputs": [],
   "source": [
    "list_stopwords = stopwords.words('indonesian')\n",
    "list_stopwords = set(list_stopwords)"
   ]
  },
  {
   "cell_type": "code",
   "execution_count": 21,
   "id": "7d7286c1",
   "metadata": {},
   "outputs": [
    {
     "name": "stdout",
     "output_type": "stream",
     "text": [
      "{'makin', 'sama', 'sebelum', 'kasus', 'sesuatu', 'didapat', 'kapan', 'tambah', 'justru', 'bukan', 'diri', 'agak', 'jawab', 'kalaulah', 'mempersiapkan', 'sekarang', 'seketika', 'lama', 'sekurang-kurangnya', 'menegaskan', 'jelas', 'diperkirakan', 'siapapun', 'cukup', 'disebutkan', 'semula', 'akulah', 'harusnya', 'dijawab', 'bahwa', 'menuju', 'jelasnya', 'baik', 'seharusnya', 'hendak', 'seusai', 'setiba', 'suatu', 'diungkapkan', 'bertanya', 'berikan', 'dan', 'bermula', 'namun', 'kurang', 'berikut', 'tegas', 'kelihatannya', 'saling', 'mereka', 'soal', 'walau', 'sebutlah', 'soalnya', 'selama-lamanya', 'lagian', 'berkenaan', 'hendaknya', 'toh', 'adapun', 'supaya', 'bersama-sama', 'sekurangnya', 'dia', 'sesegera', 'sedangkan', 'menyangkut', 'memperlihatkan', 'sendirinya', 'berlangsung', 'terkira', 'mau', 'terdapat', 'apakah', 'diucapkannya', 'jumlah', 'semacam', 'termasuk', 'tampaknya', 'karenanya', 'pula', 'menaiki', 'berapalah', 'meskipun', 'berlainan', 'nanti', 'sepihak', 'hari', 'keluar', 'tetap', 'melalui', 'sempat', 'terakhir', 'demi', 'mirip', 'beginikah', 'sementara', 'dikerjakan', 'persoalan', 'berdatangan', 'sebagainya', 'berakhir', 'dong', 'berkeinginan', 'kamulah', 'sebetulnya', 'biasa', 'setiap', 'jumlahnya', 'maupun', 'mengucapkannya', 'disini', 'mulailah', 'dikatakan', 'dikatakannya', 'naik', 'dipunyai', 'kenapa', 'semasa', 'benar', 'ada', 'menuturkan', 'tadinya', 'diinginkan', 'paling', 'seringnya', 'bakalan', 'kalaupun', 'tandasnya', 'menandaskan', 'seterusnya', 'membuat', 'tiba', 'macam', 'sekaligus', 'dimintai', 'dipergunakan', 'diakhiri', 'satu', 'misalnya', 'diakhirinya', 'padanya', 'lewat', 'kelihatan', 'apalagi', 'ditandaskan', 'per', 'kebetulan', 'berkehendak', 'guna', 'kedua', 'menjelaskan', 'diberi', 'seluruh', 'berlebihan', 'sebaliknya', 'bagai', 'berujar', 'dikarenakan', 'melainkan', 'secara', 'kapanpun', 'ucapnya', 'dipersoalkan', 'ikut', 'berlalu', 'memulai', 'hal', 'apaan', 'sampai', 'berjumlah', 'diantara', 'menunjuknya', 'akankah', 'diketahui', 'memungkinkan', 'masing', 'dituturkannya', 'sebutnya', 'semaunya', 'kesampaian', 'lanjutnya', 'tanyakan', 'lima', 'kamu', 'kita', 'olehnya', 'sebuah', 'mengapa', 'tetapi', 'keseluruhan', 'dibuatnya', 'semampu', 'wahai', 'memang', 'yaitu', 'jangan', 'asalkan', 'mendatangi', 'selalu', 'setibanya', 'betulkah', 'pertanyakan', 'keterlaluan', 'janganlah', 'memastikan', 'sekadar', 'beberapa', 'mengungkapkan', 'diucapkan', 'menanyakan', 'besar', 'menyiapkan', 'umum', 'nyatanya', 'meyakini', 'panjang', 'tinggi', 'waktu', 'seperlunya', 'melakukan', 'sekali-kali', 'mana', 'masalah', 'semata', 'disampaikan', 'berakhirnya', 'bapak', 'bertutur', 'hingga', 'tambahnya', 'lain', 'beginilah', 'minta', 'makanya', 'menunjuk', 'kepadanya', 'ujarnya', 'katakanlah', 'dengan', 'menanyai', 'mengatakan', 'keadaan', 'tersebut', 'punya', 'beginian', 'wah', 'rata', 'bagaikan', 'dialah', 'seenaknya', 'diperlihatkan', 'sesudah', 'wong', 'bukanlah', 'sebagaimana', 'serta', 'sesekali', 'dekat', 'disebutkannya', 'saja', 'seolah', 'dimulai', 'sudahlah', 'menjawab', 'ingin', 'akhirnya', 'sekiranya', 'bukannya', 'setidaknya', 'pihak', 'selain', 'bermacam', 'jawabnya', 'oleh', 'digunakan', 'dahulu', 'cukuplah', 'diantaranya', 'mungkin', 'pentingnya', 'sejenak', 'adalah', 'datang', 'diberikan', 'semakin', 'bolehkah', 'ialah', 'setidak-tidaknya', 'dijelaskannya', 'menanti-nanti', 'tertentu', 'serupa', 'sangatlah', 'gunakan', 'melihat', 'tidaklah', 'apatah', 'belakangan', 'malahan', 'baru', 'sendirian', 'sejak', 'mendatang', 'begitupun', 'kala', 'diibaratkannya', 'diketahuinya', 'sehingga', 'menanya', 'tidak', 'diingat', 'para', 'sedang', 'bagaimana', 'tentulah', 'atas', 'jawaban', 'tahun', 'cukupkah', 'mengibaratkan', 'dipastikan', 'inikah', 'diperlukannya', 'balik', 'pernah', 'begitukah', 'belum', 'kitalah', 'dini', 'banyak', 'semua', 'berapa', 'sudahkah', 'berikutnya', 'keseluruhannya', 'harus', 'sewaktu', 'tepat', 'terdiri', 'bakal', 'manakala', 'andalah', 'lagi', 'mendapatkan', 'terjadinya', 'seingat', 'didatangkan', 'berarti', 'dulu', 'amatlah', 'misal', 'sebisanya', 'selaku', 'awalnya', 'diminta', 'nantinya', 'entahlah', 'begitulah', 'nyaris', 'jelaskan', 'jadinya', 'tuturnya', 'meminta', 'maka', 'berapakah', 'penting', 'memberi', 'setelah', 'itulah', 'siapakah', 'kemungkinan', 'kapankah', 'entah', 'enggaknya', 'mendapat', 'keinginan', 'usah', 'semampunya', 'ibu', 'sedemikian', 'akan', 'bersiap', 'bahwasanya', 'semuanya', 'sebaik-baiknya', 'diperlukan', 'benarlah', 'ditunjukkan', 'diingatkan', 'pukul', 'berapapun', 'bahkan', 'betul', 'jangankan', 'masih', 'bolehlah', 'menghendaki', 'masa', 'sebegitu', 'belakang', 'masihkah', 'begini', 'kini', 'sinilah', 'enggak', 'turut', 'ibarat', 'ingat-ingat', 'kiranya', 'mungkinkah', 'sampai-sampai', 'mengerjakan', 'merekalah', 'ditanya', 'seluruhnya', 'sangat', 'menanti', 'bulan', 'kinilah', 'siapa', 'merupakan', 'dapat', 'antar', 'ternyata', 'di', 'semisal', 'tersampaikan', 'keduanya', 'tahu', 'mengenai', 'dikira', 'sesama', 'seolah-olah', 'dituturkan', 'pun', 'sama-sama', 'bawah', 'berturut', 'menantikan', 'sebesar', 'ungkap', 'lalu', 'sepantasnya', 'mengingat', 'dimaksud', 'ditunjuk', 'perlukah', 'menunjuki', 'menyampaikan', 'haruslah', 'begitu', 'kira-kira', 'melihatnya', 'ingat', 'kok', 'nah', 'selanjutnya', 'ataukah', 'yakin', 'teringat-ingat', 'mula', 'demikianlah', 'sebaiknya', 'agar', 'ke', 'kelima', 'usai', 'lanjut', 'tentu', 'diperbuat', 'asal', 'memperkirakan', 'sesampai', 'terhadapnya', 'bila', 'dimaksudkannya', 'waktunya', 'bisakah', 'mampukah', 'semisalnya', 'daripada', 'ditujukan', 'mempunyai', 'saat', 'dilakukan', 'sekalian', 'mampu', 'mulai', 'jika', 'waduh', 'pak', 'anda', 'dipertanyakan', 'mempersoalkan', 'kalian', 'sela', 'jadilah', 'itu', 'berawal', 'memihak', 'demikian', 'dua', 'ia', 'ibaratnya', 'sebelumnya', 'pertama', 'ditunjuknya', 'sejumlah', 'tampak', 'sebenarnya', 'memintakan', 'rasanya', 'sekadarnya', 'adanya', 'sebanyak', 'terjadilah', 'menjadi', 'tanpa', 'pertanyaan', 'dimulailah', 'kembali', 'dari', 'ibaratkan', 'mempertanyakan', 'mengakhiri', 'menunjukkan', 'sudah', 'dalam', 'berupa', 'seberapa', 'tandas', 'apa', 'mengingatkan', 'ungkapnya', 'memerlukan', 'ditanyai', 'mengatakannya', 'untuk', 'sekali', 'buat', 'sebagian', 'depan', 'setempat', 'sebut', 'walaupun', 'meski', 'diberikannya', 'bilakah', 'terbanyak', 'benarkah', 'ini', 'setengah', 'terhadap', 'ditambahkan', 'kemudian', 'empat', 'tadi', 'sesuatunya', 'ditunjukkannya', 'sajalah', 'mendatangkan', 'disebut', 'diibaratkan', 'katanya', 'tidakkah', 'kalau', 'sekitar', 'kami', 'sebaik', 'sekecil', 'sampaikan', 'malah', 'hendaklah', 'segala', 'terus', 'mempergunakan', 'inginkah', 'kamilah', 'manalagi', 'cuma', 'aku', 'tentunya', 'boleh', 'bermacam-macam', 'menginginkan', 'mengetahui', 'segera', 'perlunya', 'seperti', 'segalanya', 'sebabnya', 'dirinya', 'jelaslah', 'hampir', 'sejauh', 'selamanya', 'kecil', 'memisalkan', 'menambahkan', 'dimisalkan', 'pantas', 'terdahulu', 'lainnya', 'khususnya', 'sana', 'sekalipun', 'kemungkinannya', 'kata', 'sesaat', 'mengibaratkannya', 'seorang', 'cara', 'tertuju', 'padahal', 'sebab', 'bertanya-tanya', 'ditanyakan', 'kepada', 'yakni', 'masing-masing', 'dimungkinkan', 'merasa', 'jadi', 'berada', 'bung', 'caranya', 'berbagai', 'atau', 'saya', 'selama', 'biasanya', 'sepantasnyalah', 'hanya', 'dimulainya', 'inilah', 'tanya', 'yang', 'tak', 'hanyalah', 'akhiri', 'tempat', 'dimaksudnya', 'amat', 'dibuat', 'tiga', 'pertama-tama', 'disinilah', 'bermaksud', 'tunjuk', 'terlebih', 'lah', 'kira', 'katakan', 'dilihat', 'sebegini', 'pastilah', 'rupanya', 'masalahnya', 'akhir', 'sekitarnya', 'terasa', 'bagaimanakah', 'sini', 'bersama', 'sedikit', 'luar', 'mulanya', 'apabila', 'bagaimanapun', 'berkali-kali', 'menyeluruh', 'ujar', 'tiba-tiba', 'sambil', 'tanyanya', 'bukankah', 'tentang', 'memperbuat', 'menyatakan', 'teringat', 'menurut', 'diperbuatnya', 'secukupnya', 'perlu', 'memberikan', 'antara', 'tiap', 'mengucapkan', 'bersiap-siap', 'kelamaan', 'bekerja', 'sepanjang', 'antaranya', 'tutur', 'kan', 'sendiri', 'seseorang', 'terjadi', 'bagi', 'berkata', 'bisa', 'terutama', 'ataupun', 'menggunakan', 'itukah', 'terlalu', 'pihaknya', 'telah', 'sebagai', 'terlihat', 'karena', 'sedikitnya', 'se', 'tengah', 'semata-mata', 'sayalah', 'agaknya', 'ucap', 'percuma', 'ditegaskan', 'awal', 'ketika', 'jikalau', 'pada', 'lamanya', 'pasti', 'sesudahnya', 'ditunjuki', 'dilalui', 'lebih', 'siap', 'sering', 'jauh', 'meyakinkan', 'tapi', 'bagian', 'tersebutlah', 'artinya', 'tegasnya', 'misalkan', 'rasa', 'inginkan', 'berturut-turut', 'belumlah', 'berakhirlah', 'setinggi', 'umumnya', 'semasih', 'dijelaskan', 'beri', 'menyebutkan', 'saatnya', 'dimaksudkan', 'sepertinya', 'juga', 'mengira'}\n"
     ]
    }
   ],
   "source": [
    "print(list_stopwords)"
   ]
  },
  {
   "cell_type": "code",
   "execution_count": 22,
   "id": "508b1202",
   "metadata": {},
   "outputs": [
    {
     "name": "stdout",
     "output_type": "stream",
     "text": [
      "Hasil Stopwords : \n",
      "\n"
     ]
    },
    {
     "data": {
      "text/plain": [
       "0       [semangaaat, guys, moga, rakyat, indonesia, se...\n",
       "1                              [amin, yrbl, alamin, bang]\n",
       "2                                                [aamiin]\n",
       "3                                          [aaaammiiinnn]\n",
       "4                                             [amin, yra]\n",
       "                              ...                        \n",
       "1799    [minyak, mahal, negara, indonesia, malayasia, ...\n",
       "1800    [blt, alat, adu, domba, rakyat, klo, bagiinnya...\n",
       "1801    [woi, hadiah, orang, pinggir, indonesia, merde...\n",
       "1802                         [moga, rezim, laknat, alloh]\n",
       "1803    [rakyat, indonesia, dah, ngerti, yg, nggak, ng...\n",
       "Name: Komentar, Length: 1804, dtype: object"
      ]
     },
     "execution_count": 22,
     "metadata": {},
     "output_type": "execute_result"
    }
   ],
   "source": [
    "def remove_stopwords(words):\n",
    "  return [word for word in words if word not in list_stopwords]\n",
    "\n",
    "df['Komentar'] = df['Komentar'].apply(remove_stopwords)\n",
    "\n",
    "print('Hasil Stopwords : \\n')\n",
    "df['Komentar'].head(1804)"
   ]
  },
  {
   "cell_type": "code",
   "execution_count": 23,
   "id": "0c2fde6d",
   "metadata": {},
   "outputs": [],
   "source": [
    "df.to_csv('Data_stop.csv')"
   ]
  },
  {
   "cell_type": "markdown",
   "id": "48d693d4",
   "metadata": {},
   "source": [
    "## UNLISTING"
   ]
  },
  {
   "cell_type": "code",
   "execution_count": 24,
   "id": "46190af3",
   "metadata": {},
   "outputs": [
    {
     "data": {
      "text/html": [
       "<div>\n",
       "<style scoped>\n",
       "    .dataframe tbody tr th:only-of-type {\n",
       "        vertical-align: middle;\n",
       "    }\n",
       "\n",
       "    .dataframe tbody tr th {\n",
       "        vertical-align: top;\n",
       "    }\n",
       "\n",
       "    .dataframe thead th {\n",
       "        text-align: right;\n",
       "    }\n",
       "</style>\n",
       "<table border=\"1\" class=\"dataframe\">\n",
       "  <thead>\n",
       "    <tr style=\"text-align: right;\">\n",
       "      <th></th>\n",
       "      <th>Label</th>\n",
       "      <th>Komentar</th>\n",
       "    </tr>\n",
       "  </thead>\n",
       "  <tbody>\n",
       "    <tr>\n",
       "      <th>0</th>\n",
       "      <td>2</td>\n",
       "      <td>semangaaat,guys,moga,rakyat,indonesia,sehat,la...</td>\n",
       "    </tr>\n",
       "    <tr>\n",
       "      <th>1</th>\n",
       "      <td>2</td>\n",
       "      <td>amin,yrbl,alamin,bang</td>\n",
       "    </tr>\n",
       "    <tr>\n",
       "      <th>2</th>\n",
       "      <td>2</td>\n",
       "      <td>aamiin</td>\n",
       "    </tr>\n",
       "    <tr>\n",
       "      <th>3</th>\n",
       "      <td>2</td>\n",
       "      <td>aaaammiiinnn</td>\n",
       "    </tr>\n",
       "    <tr>\n",
       "      <th>4</th>\n",
       "      <td>2</td>\n",
       "      <td>amin,yra</td>\n",
       "    </tr>\n",
       "    <tr>\n",
       "      <th>...</th>\n",
       "      <td>...</td>\n",
       "      <td>...</td>\n",
       "    </tr>\n",
       "    <tr>\n",
       "      <th>1799</th>\n",
       "      <td>0</td>\n",
       "      <td>minyak,mahal,negara,indonesia,malayasia,rm,sen...</td>\n",
       "    </tr>\n",
       "    <tr>\n",
       "      <th>1800</th>\n",
       "      <td>1</td>\n",
       "      <td>blt,alat,adu,domba,rakyat,klo,bagiinnya,gak,sa...</td>\n",
       "    </tr>\n",
       "    <tr>\n",
       "      <th>1801</th>\n",
       "      <td>1</td>\n",
       "      <td>woi,hadiah,orang,pinggir,indonesia,merdeka,pua...</td>\n",
       "    </tr>\n",
       "    <tr>\n",
       "      <th>1802</th>\n",
       "      <td>1</td>\n",
       "      <td>moga,rezim,laknat,alloh</td>\n",
       "    </tr>\n",
       "    <tr>\n",
       "      <th>1803</th>\n",
       "      <td>1</td>\n",
       "      <td>rakyat,indonesia,dah,ngerti,yg,nggak,ngerti,yg...</td>\n",
       "    </tr>\n",
       "  </tbody>\n",
       "</table>\n",
       "<p>1804 rows × 2 columns</p>\n",
       "</div>"
      ],
      "text/plain": [
       "     Label                                           Komentar\n",
       "0        2  semangaaat,guys,moga,rakyat,indonesia,sehat,la...\n",
       "1        2                              amin,yrbl,alamin,bang\n",
       "2        2                                             aamiin\n",
       "3        2                                       aaaammiiinnn\n",
       "4        2                                           amin,yra\n",
       "...    ...                                                ...\n",
       "1799     0  minyak,mahal,negara,indonesia,malayasia,rm,sen...\n",
       "1800     1  blt,alat,adu,domba,rakyat,klo,bagiinnya,gak,sa...\n",
       "1801     1  woi,hadiah,orang,pinggir,indonesia,merdeka,pua...\n",
       "1802     1                            moga,rezim,laknat,alloh\n",
       "1803     1  rakyat,indonesia,dah,ngerti,yg,nggak,ngerti,yg...\n",
       "\n",
       "[1804 rows x 2 columns]"
      ]
     },
     "execution_count": 24,
     "metadata": {},
     "output_type": "execute_result"
    }
   ],
   "source": [
    "df['Komentar'] = df['Komentar'].agg(lambda x: ','.join(map(str, x)))\n",
    "df.head(1804)"
   ]
  },
  {
   "cell_type": "code",
   "execution_count": 25,
   "id": "3ed53f4f",
   "metadata": {},
   "outputs": [],
   "source": [
    "df.to_excel('data_clear1.xlsx', index=False)"
   ]
  },
  {
   "attachments": {},
   "cell_type": "markdown",
   "id": "feac886f",
   "metadata": {},
   "source": [
    "## Remove Blank Text"
   ]
  },
  {
   "cell_type": "code",
   "execution_count": 26,
   "id": "88d70817",
   "metadata": {},
   "outputs": [
    {
     "data": {
      "text/html": [
       "<div>\n",
       "<style scoped>\n",
       "    .dataframe tbody tr th:only-of-type {\n",
       "        vertical-align: middle;\n",
       "    }\n",
       "\n",
       "    .dataframe tbody tr th {\n",
       "        vertical-align: top;\n",
       "    }\n",
       "\n",
       "    .dataframe thead th {\n",
       "        text-align: right;\n",
       "    }\n",
       "</style>\n",
       "<table border=\"1\" class=\"dataframe\">\n",
       "  <thead>\n",
       "    <tr style=\"text-align: right;\">\n",
       "      <th></th>\n",
       "      <th>Label</th>\n",
       "      <th>Komentar</th>\n",
       "    </tr>\n",
       "  </thead>\n",
       "  <tbody>\n",
       "    <tr>\n",
       "      <th>0</th>\n",
       "      <td>2</td>\n",
       "      <td>semangaaat,guys,moga,rakyat,indonesia,sehat,la...</td>\n",
       "    </tr>\n",
       "    <tr>\n",
       "      <th>1</th>\n",
       "      <td>2</td>\n",
       "      <td>amin,yrbl,alamin,bang</td>\n",
       "    </tr>\n",
       "    <tr>\n",
       "      <th>2</th>\n",
       "      <td>2</td>\n",
       "      <td>aamiin</td>\n",
       "    </tr>\n",
       "    <tr>\n",
       "      <th>3</th>\n",
       "      <td>2</td>\n",
       "      <td>aaaammiiinnn</td>\n",
       "    </tr>\n",
       "    <tr>\n",
       "      <th>4</th>\n",
       "      <td>2</td>\n",
       "      <td>amin,yra</td>\n",
       "    </tr>\n",
       "    <tr>\n",
       "      <th>...</th>\n",
       "      <td>...</td>\n",
       "      <td>...</td>\n",
       "    </tr>\n",
       "    <tr>\n",
       "      <th>1799</th>\n",
       "      <td>0</td>\n",
       "      <td>minyak,mahal,negara,indonesia,malayasia,rm,sen...</td>\n",
       "    </tr>\n",
       "    <tr>\n",
       "      <th>1800</th>\n",
       "      <td>1</td>\n",
       "      <td>blt,alat,adu,domba,rakyat,klo,bagiinnya,gak,sa...</td>\n",
       "    </tr>\n",
       "    <tr>\n",
       "      <th>1801</th>\n",
       "      <td>1</td>\n",
       "      <td>woi,hadiah,orang,pinggir,indonesia,merdeka,pua...</td>\n",
       "    </tr>\n",
       "    <tr>\n",
       "      <th>1802</th>\n",
       "      <td>1</td>\n",
       "      <td>moga,rezim,laknat,alloh</td>\n",
       "    </tr>\n",
       "    <tr>\n",
       "      <th>1803</th>\n",
       "      <td>1</td>\n",
       "      <td>rakyat,indonesia,dah,ngerti,yg,nggak,ngerti,yg...</td>\n",
       "    </tr>\n",
       "  </tbody>\n",
       "</table>\n",
       "<p>1792 rows × 2 columns</p>\n",
       "</div>"
      ],
      "text/plain": [
       "     Label                                           Komentar\n",
       "0        2  semangaaat,guys,moga,rakyat,indonesia,sehat,la...\n",
       "1        2                              amin,yrbl,alamin,bang\n",
       "2        2                                             aamiin\n",
       "3        2                                       aaaammiiinnn\n",
       "4        2                                           amin,yra\n",
       "...    ...                                                ...\n",
       "1799     0  minyak,mahal,negara,indonesia,malayasia,rm,sen...\n",
       "1800     1  blt,alat,adu,domba,rakyat,klo,bagiinnya,gak,sa...\n",
       "1801     1  woi,hadiah,orang,pinggir,indonesia,merdeka,pua...\n",
       "1802     1                            moga,rezim,laknat,alloh\n",
       "1803     1  rakyat,indonesia,dah,ngerti,yg,nggak,ngerti,yg...\n",
       "\n",
       "[1792 rows x 2 columns]"
      ]
     },
     "execution_count": 26,
     "metadata": {},
     "output_type": "execute_result"
    }
   ],
   "source": [
    "df = df[df['Komentar'] != '']\n",
    "df.head(1804)"
   ]
  },
  {
   "cell_type": "code",
   "execution_count": 27,
   "id": "6c83a3cf",
   "metadata": {},
   "outputs": [
    {
     "data": {
      "text/plain": [
       "1    906\n",
       "2    492\n",
       "0    394\n",
       "Name: Label, dtype: int64"
      ]
     },
     "execution_count": 27,
     "metadata": {},
     "output_type": "execute_result"
    }
   ],
   "source": [
    "df['Label'].value_counts()"
   ]
  },
  {
   "cell_type": "code",
   "execution_count": 28,
   "id": "34b82f0e",
   "metadata": {},
   "outputs": [],
   "source": [
    "df.to_excel('data_clear_2.xlsx', index=False)"
   ]
  },
  {
   "cell_type": "code",
   "execution_count": 29,
   "id": "dfcda25a",
   "metadata": {},
   "outputs": [],
   "source": [
    "import warnings\n",
    "warnings.filterwarnings('ignore')"
   ]
  },
  {
   "cell_type": "code",
   "execution_count": 30,
   "id": "562490c7",
   "metadata": {},
   "outputs": [],
   "source": [
    "from sklearn.model_selection import train_test_split\n",
    "from sklearn.feature_extraction.text import TfidfVectorizer\n",
    "cv = TfidfVectorizer()\n",
    "\n",
    "X = df['Komentar']\n",
    "y = df['Label']\n",
    "\n",
    "X_train, X_test, y_train, y_test = train_test_split(X, y, test_size = 0.2, random_state = 0)\n",
    "xv_train = cv.fit_transform(X_train)\n",
    "xv_test = cv.transform(X_test)"
   ]
  },
  {
   "cell_type": "code",
   "execution_count": 31,
   "id": "f6e7dfe5",
   "metadata": {},
   "outputs": [
    {
     "data": {
      "text/plain": [
       "RandomForestClassifier(n_estimators=50, random_state=0)"
      ]
     },
     "execution_count": 31,
     "metadata": {},
     "output_type": "execute_result"
    }
   ],
   "source": [
    "from sklearn.ensemble import RandomForestClassifier\n",
    "classifier = RandomForestClassifier(n_estimators=50, random_state=0)\n",
    "classifier.fit(xv_train, y_train)"
   ]
  },
  {
   "cell_type": "code",
   "execution_count": 32,
   "id": "6321c3b4",
   "metadata": {},
   "outputs": [],
   "source": [
    "y_pred = classifier.predict(xv_test)"
   ]
  },
  {
   "cell_type": "code",
   "execution_count": 33,
   "id": "dd9d192f",
   "metadata": {},
   "outputs": [
    {
     "name": "stdout",
     "output_type": "stream",
     "text": [
      "60.0 %\n"
     ]
    }
   ],
   "source": [
    "from sklearn.metrics import accuracy_score\n",
    "acc = round(accuracy_score(y_test, y_pred),2)\n",
    "print(str(round(acc*100,2)) + ' %')"
   ]
  },
  {
   "cell_type": "code",
   "execution_count": 34,
   "id": "3694578c",
   "metadata": {},
   "outputs": [
    {
     "name": "stdout",
     "output_type": "stream",
     "text": [
      "              precision    recall  f1-score   support\n",
      "\n",
      "           0       0.56      0.53      0.54        83\n",
      "           1       0.62      0.79      0.69       171\n",
      "           2       0.59      0.34      0.43       105\n",
      "\n",
      "    accuracy                           0.60       359\n",
      "   macro avg       0.59      0.55      0.56       359\n",
      "weighted avg       0.60      0.60      0.58       359\n",
      "\n"
     ]
    }
   ],
   "source": [
    "from sklearn.metrics import classification_report\n",
    "# print classification report\n",
    "print(classification_report(y_test, y_pred))"
   ]
  },
  {
   "cell_type": "code",
   "execution_count": 35,
   "id": "2772a229",
   "metadata": {},
   "outputs": [
    {
     "data": {
      "text/plain": [
       "<sklearn.metrics._plot.confusion_matrix.ConfusionMatrixDisplay at 0x2598d98a1f0>"
      ]
     },
     "execution_count": 35,
     "metadata": {},
     "output_type": "execute_result"
    },
    {
     "data": {
      "image/png": "[encoded data removed]",
      "text/plain": [
       "<Figure size 432x288 with 2 Axes>"
      ]
     },
     "metadata": {
      "needs_background": "light"
     },
     "output_type": "display_data"
    }
   ],
   "source": [
    "from sklearn.metrics import plot_confusion_matrix\n",
    "#print plot_confusion_matrix\n",
    "plot_confusion_matrix(classifier, xv_test, y_test)"
   ]
  },
  {
   "cell_type": "code",
   "execution_count": 36,
   "id": "533a86a5",
   "metadata": {},
   "outputs": [],
   "source": [
    "import pickle as pkl\n",
    "\n",
    "filename = 'finalized_model_random.sav'\n",
    "pkl.dump(classifier, open(filename, 'wb'))"
   ]
  },
  {
   "cell_type": "code",
   "execution_count": 37,
   "id": "99cd79fa",
   "metadata": {},
   "outputs": [],
   "source": [
    "pkl.dump(cv, open(\"vectorizerrr.pickle\", \"wb\"))"
   ]
  }
 ],
 "metadata": {
  "kernelspec": {
   "display_name": "Python 3 (ipykernel)",
   "language": "python",
   "name": "python3"
  },
  "language_info": {
   "codemirror_mode": {
    "name": "ipython",
    "version": 3
   },
   "file_extension": ".py",
   "mimetype": "text/x-python",
   "name": "python",
   "nbconvert_exporter": "python",
   "pygments_lexer": "ipython3",
   "version": "3.9.0 (tags/v3.9.0:9cf6752, Oct  5 2020, 15:34:40) [MSC v.1927 64 bit (AMD64)]"
  },
  "vscode": {
   "interpreter": {
    "hash": "14958d3aee5f1cad06795f787e54b96185c25fb40dfec723a5be941f3a531b8c"
   }
  }
 },
 "nbformat": 4,
 "nbformat_minor": 5
}
